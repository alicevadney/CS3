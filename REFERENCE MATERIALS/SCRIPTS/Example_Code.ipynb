{
  "nbformat": 4,
  "nbformat_minor": 0,
  "metadata": {
    "colab": {
      "provenance": [],
      "authorship_tag": "ABX9TyNQN1OyHPR6SSlBXe9RdVEX",
      "include_colab_link": true
    },
    "kernelspec": {
      "name": "python3",
      "display_name": "Python 3"
    },
    "language_info": {
      "name": "python"
    }
  },
  "cells": [
    {
      "cell_type": "markdown",
      "metadata": {
        "id": "view-in-github",
        "colab_type": "text"
      },
      "source": [
        "<a href=\"https://colab.research.google.com/github/alicevadney/CS3/blob/main/Example_Code.ipynb\" target=\"_parent\"><img src=\"https://colab.research.google.com/assets/colab-badge.svg\" alt=\"Open In Colab\"/></a>"
      ]
    },
    {
      "cell_type": "markdown",
      "source": [
        "This script is a full run through of the case study code expectations with the addition of some EDA for visualization purposes."
      ],
      "metadata": {
        "id": "LkKYTUT6gkR0"
      }
    },
    {
      "cell_type": "markdown",
      "source": [
        "# Set Up"
      ],
      "metadata": {
        "id": "qAMBQdvEgb0N"
      }
    },
    {
      "cell_type": "code",
      "execution_count": 2,
      "metadata": {
        "colab": {
          "base_uri": "https://localhost:8080/"
        },
        "id": "3vvI7vGkgU-2",
        "outputId": "6730538e-4c5d-40ba-e6f6-00b27723f9cf"
      },
      "outputs": [
        {
          "output_type": "stream",
          "name": "stdout",
          "text": [
            "Cloning into 'CS3'...\n",
            "remote: Enumerating objects: 69, done.\u001b[K\n",
            "remote: Counting objects: 100% (69/69), done.\u001b[K\n",
            "remote: Compressing objects: 100% (67/67), done.\u001b[K\n",
            "remote: Total 69 (delta 23), reused 0 (delta 0), pack-reused 0 (from 0)\u001b[K\n",
            "Receiving objects: 100% (69/69), 5.82 MiB | 8.25 MiB/s, done.\n",
            "Resolving deltas: 100% (23/23), done.\n"
          ]
        }
      ],
      "source": [
        "! git clone https://github.com/alicevadney/CS3"
      ]
    },
    {
      "cell_type": "code",
      "source": [
        "import numpy as np\n",
        "import pandas as pd\n",
        "import matplotlib.pyplot as plt\n",
        "import seaborn as sns"
      ],
      "metadata": {
        "id": "5Ht_glk6gifv"
      },
      "execution_count": 3,
      "outputs": []
    },
    {
      "cell_type": "code",
      "source": [
        "df = pd.read_csv('/content/CS3/DATA/Restaurant Reviews.csv')\n",
        "df.drop(['Unnamed: 0'], axis = 1, inplace=True)\n",
        "df.head()"
      ],
      "metadata": {
        "colab": {
          "base_uri": "https://localhost:8080/",
          "height": 206
        },
        "id": "SwBz9HkIgyx2",
        "outputId": "32ac1a36-4d8a-404d-f350-78ec7d643d79"
      },
      "execution_count": 5,
      "outputs": [
        {
          "output_type": "execute_result",
          "data": {
            "text/plain": [
              "         Date  Rating                                            Message  \\\n",
              "0  2023-02-19     5.0  This place was better than the 3 Michelin-star...   \n",
              "1  2023-02-19     5.0  I have to say, this place is a steakhouse like...   \n",
              "2  2023-02-26     5.0  Loved this place! They were completely booked ...   \n",
              "3  2023-05-03     4.0  Food is excellent, best steak in a very long t...   \n",
              "4  2023-08-03     5.0  The food here is incredible! The service was e...   \n",
              "\n",
              "   Author Reviews Restaurant  sentiment  DayOfWeek  \n",
              "0            82.0  Black Cow     0.9965     Sunday  \n",
              "1           113.0  Black Cow     0.9674     Sunday  \n",
              "2            28.0  Black Cow     0.9937     Sunday  \n",
              "3            24.0  Black Cow     0.7604  Wednesday  \n",
              "4            23.0  Black Cow     0.9845   Thursday  "
            ],
            "text/html": [
              "\n",
              "  <div id=\"df-de77884c-711c-48f6-9389-7b90142793b0\" class=\"colab-df-container\">\n",
              "    <div>\n",
              "<style scoped>\n",
              "    .dataframe tbody tr th:only-of-type {\n",
              "        vertical-align: middle;\n",
              "    }\n",
              "\n",
              "    .dataframe tbody tr th {\n",
              "        vertical-align: top;\n",
              "    }\n",
              "\n",
              "    .dataframe thead th {\n",
              "        text-align: right;\n",
              "    }\n",
              "</style>\n",
              "<table border=\"1\" class=\"dataframe\">\n",
              "  <thead>\n",
              "    <tr style=\"text-align: right;\">\n",
              "      <th></th>\n",
              "      <th>Date</th>\n",
              "      <th>Rating</th>\n",
              "      <th>Message</th>\n",
              "      <th>Author Reviews</th>\n",
              "      <th>Restaurant</th>\n",
              "      <th>sentiment</th>\n",
              "      <th>DayOfWeek</th>\n",
              "    </tr>\n",
              "  </thead>\n",
              "  <tbody>\n",
              "    <tr>\n",
              "      <th>0</th>\n",
              "      <td>2023-02-19</td>\n",
              "      <td>5.0</td>\n",
              "      <td>This place was better than the 3 Michelin-star...</td>\n",
              "      <td>82.0</td>\n",
              "      <td>Black Cow</td>\n",
              "      <td>0.9965</td>\n",
              "      <td>Sunday</td>\n",
              "    </tr>\n",
              "    <tr>\n",
              "      <th>1</th>\n",
              "      <td>2023-02-19</td>\n",
              "      <td>5.0</td>\n",
              "      <td>I have to say, this place is a steakhouse like...</td>\n",
              "      <td>113.0</td>\n",
              "      <td>Black Cow</td>\n",
              "      <td>0.9674</td>\n",
              "      <td>Sunday</td>\n",
              "    </tr>\n",
              "    <tr>\n",
              "      <th>2</th>\n",
              "      <td>2023-02-26</td>\n",
              "      <td>5.0</td>\n",
              "      <td>Loved this place! They were completely booked ...</td>\n",
              "      <td>28.0</td>\n",
              "      <td>Black Cow</td>\n",
              "      <td>0.9937</td>\n",
              "      <td>Sunday</td>\n",
              "    </tr>\n",
              "    <tr>\n",
              "      <th>3</th>\n",
              "      <td>2023-05-03</td>\n",
              "      <td>4.0</td>\n",
              "      <td>Food is excellent, best steak in a very long t...</td>\n",
              "      <td>24.0</td>\n",
              "      <td>Black Cow</td>\n",
              "      <td>0.7604</td>\n",
              "      <td>Wednesday</td>\n",
              "    </tr>\n",
              "    <tr>\n",
              "      <th>4</th>\n",
              "      <td>2023-08-03</td>\n",
              "      <td>5.0</td>\n",
              "      <td>The food here is incredible! The service was e...</td>\n",
              "      <td>23.0</td>\n",
              "      <td>Black Cow</td>\n",
              "      <td>0.9845</td>\n",
              "      <td>Thursday</td>\n",
              "    </tr>\n",
              "  </tbody>\n",
              "</table>\n",
              "</div>\n",
              "    <div class=\"colab-df-buttons\">\n",
              "\n",
              "  <div class=\"colab-df-container\">\n",
              "    <button class=\"colab-df-convert\" onclick=\"convertToInteractive('df-de77884c-711c-48f6-9389-7b90142793b0')\"\n",
              "            title=\"Convert this dataframe to an interactive table.\"\n",
              "            style=\"display:none;\">\n",
              "\n",
              "  <svg xmlns=\"http://www.w3.org/2000/svg\" height=\"24px\" viewBox=\"0 -960 960 960\">\n",
              "    <path d=\"M120-120v-720h720v720H120Zm60-500h600v-160H180v160Zm220 220h160v-160H400v160Zm0 220h160v-160H400v160ZM180-400h160v-160H180v160Zm440 0h160v-160H620v160ZM180-180h160v-160H180v160Zm440 0h160v-160H620v160Z\"/>\n",
              "  </svg>\n",
              "    </button>\n",
              "\n",
              "  <style>\n",
              "    .colab-df-container {\n",
              "      display:flex;\n",
              "      gap: 12px;\n",
              "    }\n",
              "\n",
              "    .colab-df-convert {\n",
              "      background-color: #E8F0FE;\n",
              "      border: none;\n",
              "      border-radius: 50%;\n",
              "      cursor: pointer;\n",
              "      display: none;\n",
              "      fill: #1967D2;\n",
              "      height: 32px;\n",
              "      padding: 0 0 0 0;\n",
              "      width: 32px;\n",
              "    }\n",
              "\n",
              "    .colab-df-convert:hover {\n",
              "      background-color: #E2EBFA;\n",
              "      box-shadow: 0px 1px 2px rgba(60, 64, 67, 0.3), 0px 1px 3px 1px rgba(60, 64, 67, 0.15);\n",
              "      fill: #174EA6;\n",
              "    }\n",
              "\n",
              "    .colab-df-buttons div {\n",
              "      margin-bottom: 4px;\n",
              "    }\n",
              "\n",
              "    [theme=dark] .colab-df-convert {\n",
              "      background-color: #3B4455;\n",
              "      fill: #D2E3FC;\n",
              "    }\n",
              "\n",
              "    [theme=dark] .colab-df-convert:hover {\n",
              "      background-color: #434B5C;\n",
              "      box-shadow: 0px 1px 3px 1px rgba(0, 0, 0, 0.15);\n",
              "      filter: drop-shadow(0px 1px 2px rgba(0, 0, 0, 0.3));\n",
              "      fill: #FFFFFF;\n",
              "    }\n",
              "  </style>\n",
              "\n",
              "    <script>\n",
              "      const buttonEl =\n",
              "        document.querySelector('#df-de77884c-711c-48f6-9389-7b90142793b0 button.colab-df-convert');\n",
              "      buttonEl.style.display =\n",
              "        google.colab.kernel.accessAllowed ? 'block' : 'none';\n",
              "\n",
              "      async function convertToInteractive(key) {\n",
              "        const element = document.querySelector('#df-de77884c-711c-48f6-9389-7b90142793b0');\n",
              "        const dataTable =\n",
              "          await google.colab.kernel.invokeFunction('convertToInteractive',\n",
              "                                                    [key], {});\n",
              "        if (!dataTable) return;\n",
              "\n",
              "        const docLinkHtml = 'Like what you see? Visit the ' +\n",
              "          '<a target=\"_blank\" href=https://colab.research.google.com/notebooks/data_table.ipynb>data table notebook</a>'\n",
              "          + ' to learn more about interactive tables.';\n",
              "        element.innerHTML = '';\n",
              "        dataTable['output_type'] = 'display_data';\n",
              "        await google.colab.output.renderOutput(dataTable, element);\n",
              "        const docLink = document.createElement('div');\n",
              "        docLink.innerHTML = docLinkHtml;\n",
              "        element.appendChild(docLink);\n",
              "      }\n",
              "    </script>\n",
              "  </div>\n",
              "\n",
              "\n",
              "<div id=\"df-b8f63d9d-9180-4f3e-851d-7ccf99082b10\">\n",
              "  <button class=\"colab-df-quickchart\" onclick=\"quickchart('df-b8f63d9d-9180-4f3e-851d-7ccf99082b10')\"\n",
              "            title=\"Suggest charts\"\n",
              "            style=\"display:none;\">\n",
              "\n",
              "<svg xmlns=\"http://www.w3.org/2000/svg\" height=\"24px\"viewBox=\"0 0 24 24\"\n",
              "     width=\"24px\">\n",
              "    <g>\n",
              "        <path d=\"M19 3H5c-1.1 0-2 .9-2 2v14c0 1.1.9 2 2 2h14c1.1 0 2-.9 2-2V5c0-1.1-.9-2-2-2zM9 17H7v-7h2v7zm4 0h-2V7h2v10zm4 0h-2v-4h2v4z\"/>\n",
              "    </g>\n",
              "</svg>\n",
              "  </button>\n",
              "\n",
              "<style>\n",
              "  .colab-df-quickchart {\n",
              "      --bg-color: #E8F0FE;\n",
              "      --fill-color: #1967D2;\n",
              "      --hover-bg-color: #E2EBFA;\n",
              "      --hover-fill-color: #174EA6;\n",
              "      --disabled-fill-color: #AAA;\n",
              "      --disabled-bg-color: #DDD;\n",
              "  }\n",
              "\n",
              "  [theme=dark] .colab-df-quickchart {\n",
              "      --bg-color: #3B4455;\n",
              "      --fill-color: #D2E3FC;\n",
              "      --hover-bg-color: #434B5C;\n",
              "      --hover-fill-color: #FFFFFF;\n",
              "      --disabled-bg-color: #3B4455;\n",
              "      --disabled-fill-color: #666;\n",
              "  }\n",
              "\n",
              "  .colab-df-quickchart {\n",
              "    background-color: var(--bg-color);\n",
              "    border: none;\n",
              "    border-radius: 50%;\n",
              "    cursor: pointer;\n",
              "    display: none;\n",
              "    fill: var(--fill-color);\n",
              "    height: 32px;\n",
              "    padding: 0;\n",
              "    width: 32px;\n",
              "  }\n",
              "\n",
              "  .colab-df-quickchart:hover {\n",
              "    background-color: var(--hover-bg-color);\n",
              "    box-shadow: 0 1px 2px rgba(60, 64, 67, 0.3), 0 1px 3px 1px rgba(60, 64, 67, 0.15);\n",
              "    fill: var(--button-hover-fill-color);\n",
              "  }\n",
              "\n",
              "  .colab-df-quickchart-complete:disabled,\n",
              "  .colab-df-quickchart-complete:disabled:hover {\n",
              "    background-color: var(--disabled-bg-color);\n",
              "    fill: var(--disabled-fill-color);\n",
              "    box-shadow: none;\n",
              "  }\n",
              "\n",
              "  .colab-df-spinner {\n",
              "    border: 2px solid var(--fill-color);\n",
              "    border-color: transparent;\n",
              "    border-bottom-color: var(--fill-color);\n",
              "    animation:\n",
              "      spin 1s steps(1) infinite;\n",
              "  }\n",
              "\n",
              "  @keyframes spin {\n",
              "    0% {\n",
              "      border-color: transparent;\n",
              "      border-bottom-color: var(--fill-color);\n",
              "      border-left-color: var(--fill-color);\n",
              "    }\n",
              "    20% {\n",
              "      border-color: transparent;\n",
              "      border-left-color: var(--fill-color);\n",
              "      border-top-color: var(--fill-color);\n",
              "    }\n",
              "    30% {\n",
              "      border-color: transparent;\n",
              "      border-left-color: var(--fill-color);\n",
              "      border-top-color: var(--fill-color);\n",
              "      border-right-color: var(--fill-color);\n",
              "    }\n",
              "    40% {\n",
              "      border-color: transparent;\n",
              "      border-right-color: var(--fill-color);\n",
              "      border-top-color: var(--fill-color);\n",
              "    }\n",
              "    60% {\n",
              "      border-color: transparent;\n",
              "      border-right-color: var(--fill-color);\n",
              "    }\n",
              "    80% {\n",
              "      border-color: transparent;\n",
              "      border-right-color: var(--fill-color);\n",
              "      border-bottom-color: var(--fill-color);\n",
              "    }\n",
              "    90% {\n",
              "      border-color: transparent;\n",
              "      border-bottom-color: var(--fill-color);\n",
              "    }\n",
              "  }\n",
              "</style>\n",
              "\n",
              "  <script>\n",
              "    async function quickchart(key) {\n",
              "      const quickchartButtonEl =\n",
              "        document.querySelector('#' + key + ' button');\n",
              "      quickchartButtonEl.disabled = true;  // To prevent multiple clicks.\n",
              "      quickchartButtonEl.classList.add('colab-df-spinner');\n",
              "      try {\n",
              "        const charts = await google.colab.kernel.invokeFunction(\n",
              "            'suggestCharts', [key], {});\n",
              "      } catch (error) {\n",
              "        console.error('Error during call to suggestCharts:', error);\n",
              "      }\n",
              "      quickchartButtonEl.classList.remove('colab-df-spinner');\n",
              "      quickchartButtonEl.classList.add('colab-df-quickchart-complete');\n",
              "    }\n",
              "    (() => {\n",
              "      let quickchartButtonEl =\n",
              "        document.querySelector('#df-b8f63d9d-9180-4f3e-851d-7ccf99082b10 button');\n",
              "      quickchartButtonEl.style.display =\n",
              "        google.colab.kernel.accessAllowed ? 'block' : 'none';\n",
              "    })();\n",
              "  </script>\n",
              "</div>\n",
              "\n",
              "    </div>\n",
              "  </div>\n"
            ],
            "application/vnd.google.colaboratory.intrinsic+json": {
              "type": "dataframe",
              "variable_name": "df",
              "summary": "{\n  \"name\": \"df\",\n  \"rows\": 2566,\n  \"fields\": [\n    {\n      \"column\": \"Date\",\n      \"properties\": {\n        \"dtype\": \"object\",\n        \"num_unique_values\": 1556,\n        \"samples\": [\n          \"2022-03-08\",\n          \"2023-05-23\",\n          \"2021-08-02\"\n        ],\n        \"semantic_type\": \"\",\n        \"description\": \"\"\n      }\n    },\n    {\n      \"column\": \"Rating\",\n      \"properties\": {\n        \"dtype\": \"number\",\n        \"std\": 1.1931613447284852,\n        \"min\": 1.0,\n        \"max\": 5.0,\n        \"num_unique_values\": 5,\n        \"samples\": [\n          4.0,\n          3.0,\n          2.0\n        ],\n        \"semantic_type\": \"\",\n        \"description\": \"\"\n      }\n    },\n    {\n      \"column\": \"Message\",\n      \"properties\": {\n        \"dtype\": \"string\",\n        \"num_unique_values\": 2433,\n        \"samples\": [\n          \"Food was awesome. Service was so so, no one seemed like they wanted to be there. Went with a party of 7 and told when we got the check it could only be split 4 ways, very inconvenient. If we had been told that up front we could have split up. Overall food was really good but the rest of the experience wasn't up to par.\",\n          \"Loved this place! We were there in a perfect afternoon so we could sit outside, which is the perfect way to enjoy their Sangria! There were so many choices to choose from! We had 6 people and ended up getting about 8-9 dishes! Each dish was delicious! Also the service was super fast! Everything came out about ( minutes after we ordered it so if you need a nice fast dinner definitely go here.\\n\\nNotable faves: jamon y queso (got the large and it was more than enough), grilled octopus, Pat Atlas bravas\",\n          \"We went to Orzo for the 1st time (there will be a 2nd!) last night. The service was spot on (thank you Todd!) and I LOVED my Summer Risotto! So flavorful. My partner wasnt blown away by his bouillabase (altho he ate every bite) hence the 4 not 5 stars but the atmosphere, the food, the service were 5s in my opinion. I look forward to going back soon.\\nNote: as a pescatarian I struggle to find a restaurant that serves flavor and doesnt phone in the vegetarian option(s). Orzo didnt dial in anything. They were attentive but not smothering, the food was fresh and flavorful, and the seating was comfortable and not cramped. Excited to have found Orzo!\"\n        ],\n        \"semantic_type\": \"\",\n        \"description\": \"\"\n      }\n    },\n    {\n      \"column\": \"Author Reviews\",\n      \"properties\": {\n        \"dtype\": \"number\",\n        \"std\": 736.2604826741934,\n        \"min\": 1.0,\n        \"max\": 23666.0,\n        \"num_unique_values\": 424,\n        \"samples\": [\n          223.0,\n          62.0,\n          176.0\n        ],\n        \"semantic_type\": \"\",\n        \"description\": \"\"\n      }\n    },\n    {\n      \"column\": \"Restaurant\",\n      \"properties\": {\n        \"dtype\": \"category\",\n        \"num_unique_values\": 22,\n        \"samples\": [\n          \"Black Cow\",\n          \"ridley\",\n          \"Guad\"\n        ],\n        \"semantic_type\": \"\",\n        \"description\": \"\"\n      }\n    },\n    {\n      \"column\": \"sentiment\",\n      \"properties\": {\n        \"dtype\": \"number\",\n        \"std\": 0.4239418062620103,\n        \"min\": -0.9742,\n        \"max\": 0.9995,\n        \"num_unique_values\": 1324,\n        \"samples\": [\n          0.8478,\n          -0.8957,\n          -0.6048\n        ],\n        \"semantic_type\": \"\",\n        \"description\": \"\"\n      }\n    },\n    {\n      \"column\": \"DayOfWeek\",\n      \"properties\": {\n        \"dtype\": \"category\",\n        \"num_unique_values\": 7,\n        \"samples\": [\n          \"Sunday\",\n          \"Wednesday\",\n          \"Monday\"\n        ],\n        \"semantic_type\": \"\",\n        \"description\": \"\"\n      }\n    }\n  ]\n}"
            }
          },
          "metadata": {},
          "execution_count": 5
        }
      ]
    },
    {
      "cell_type": "markdown",
      "source": [
        "# EDA (optional)\n",
        "\n",
        "This section includes exploratory data analysis to orient the user to the dataset. This is not required for the case study."
      ],
      "metadata": {
        "id": "9BjfvgU_hL9q"
      }
    },
    {
      "cell_type": "code",
      "source": [
        "# dimensions\n",
        "print(df.shape,'\\n')\n",
        "# observations\n",
        "print(df.dtypes, '\\n')\n",
        "# variables\n",
        "print(df.columns,'\\n')"
      ],
      "metadata": {
        "colab": {
          "base_uri": "https://localhost:8080/"
        },
        "id": "BVJYOQjGhRbK",
        "outputId": "484678c6-e413-413b-de81-b71e532d5a22"
      },
      "execution_count": 7,
      "outputs": [
        {
          "output_type": "stream",
          "name": "stdout",
          "text": [
            "(2566, 7) \n",
            "\n",
            "Date               object\n",
            "Rating            float64\n",
            "Message            object\n",
            "Author Reviews    float64\n",
            "Restaurant         object\n",
            "sentiment         float64\n",
            "DayOfWeek          object\n",
            "dtype: object \n",
            "\n",
            "Index(['Date', 'Rating', 'Message', 'Author Reviews', 'Restaurant',\n",
            "       'sentiment', 'DayOfWeek'],\n",
            "      dtype='object') \n",
            "\n"
          ]
        }
      ]
    },
    {
      "cell_type": "code",
      "source": [
        "# rating\n",
        "var = 'Rating'\n",
        "print(df[var].value_counts(), '\\n')\n",
        "print(df[var].describe(), '\\n')"
      ],
      "metadata": {
        "colab": {
          "base_uri": "https://localhost:8080/"
        },
        "id": "SUZosqpChcbk",
        "outputId": "c9bff0f0-3497-4142-f338-f53c34ff4990"
      },
      "execution_count": 8,
      "outputs": [
        {
          "output_type": "stream",
          "name": "stdout",
          "text": [
            "Rating\n",
            "5.0    1401\n",
            "4.0     579\n",
            "3.0     259\n",
            "2.0     162\n",
            "1.0     153\n",
            "Name: count, dtype: int64 \n",
            "\n",
            "count    2554.000000\n",
            "mean        4.140564\n",
            "std         1.193161\n",
            "min         1.000000\n",
            "25%         4.000000\n",
            "50%         5.000000\n",
            "75%         5.000000\n",
            "max         5.000000\n",
            "Name: Rating, dtype: float64 \n",
            "\n"
          ]
        }
      ]
    },
    {
      "cell_type": "code",
      "source": [
        "# rating by restaurant\n",
        "df = df.reset_index(drop=True)\n",
        "plt.figure(figsize=(10, 6))\n",
        "sns.boxplot(x='Restaurant', y='Rating', data=df)\n",
        "plt.title('Rating Distribution by Restaurant')\n",
        "plt.xlabel('Restaurant')\n",
        "plt.ylabel('Rating')\n",
        "plt.xticks(rotation=45, ha='right')\n",
        "plt.show()"
      ],
      "metadata": {
        "colab": {
          "base_uri": "https://localhost:8080/",
          "height": 611
        },
        "id": "tpKgRPDyhqM5",
        "outputId": "cca80d6a-6ff8-49fc-c0a0-1e5e87a20f00"
      },
      "execution_count": 10,
      "outputs": [
        {
          "output_type": "display_data",
          "data": {
            "text/plain": [
              "<Figure size 1000x600 with 1 Axes>"
            ],
            "image/png": "[encoded data removed]"
          },
          "metadata": {}
        }
      ]
    },
    {
      "cell_type": "markdown",
      "source": [
        "# Tables of Sentiment and Rating by Restaurant"
      ],
      "metadata": {
        "id": "fCH92BfRiKum"
      }
    },
    {
      "cell_type": "code",
      "source": [
        "from IPython.display import display_html"
      ],
      "metadata": {
        "id": "nzWPAdnNi6IM"
      },
      "execution_count": 18,
      "outputs": []
    },
    {
      "cell_type": "code",
      "source": [
        "# average rating\n",
        "avg_rating_by_restaurant = df.groupby(df['Restaurant'])['Rating'].mean().sort_values(ascending=False)\n",
        "\n",
        "# average sentiment\n",
        "avg_sentiment_by_restaurant = df.groupby(df['Restaurant'])['sentiment'].mean().sort_values(ascending=False)\n",
        "\n",
        "# convert to HTML\n",
        "html1 = avg_rating_by_restaurant.to_frame().to_html()\n",
        "html2 = avg_sentiment_by_restaurant.to_frame().to_html()\n",
        "\n",
        "#  display side-by-side\n",
        "html_side_by_side = f\"\"\"\n",
        "<div style=\"display: flex; gap: 40px;\">\n",
        "    <div>{html1}</div>\n",
        "    <div>{html2}</div>\n",
        "</div>\n",
        "\"\"\"\n",
        "\n",
        "display_html(html_side_by_side, raw=True)"
      ],
      "metadata": {
        "colab": {
          "base_uri": "https://localhost:8080/",
          "height": 771
        },
        "id": "jLZ6LdnYiPa5",
        "outputId": "9f0bafe6-4633-4fae-e24a-504cfcaa1625"
      },
      "execution_count": 19,
      "outputs": [
        {
          "output_type": "display_data",
          "data": {
            "text/html": [
              "\n",
              "<div style=\"display: flex; gap: 40px;\">\n",
              "    <div><table border=\"1\" class=\"dataframe\">\n",
              "  <thead>\n",
              "    <tr style=\"text-align: right;\">\n",
              "      <th></th>\n",
              "      <th>Rating</th>\n",
              "    </tr>\n",
              "    <tr>\n",
              "      <th>Restaurant</th>\n",
              "      <th></th>\n",
              "    </tr>\n",
              "  </thead>\n",
              "  <tbody>\n",
              "    <tr>\n",
              "      <th>Smyrna</th>\n",
              "      <td>4.848101</td>\n",
              "    </tr>\n",
              "    <tr>\n",
              "      <th>publicfish</th>\n",
              "      <td>4.591667</td>\n",
              "    </tr>\n",
              "    <tr>\n",
              "      <th>Oakhart</th>\n",
              "      <td>4.541667</td>\n",
              "    </tr>\n",
              "    <tr>\n",
              "      <th>Black Cow</th>\n",
              "      <td>4.494845</td>\n",
              "    </tr>\n",
              "    <tr>\n",
              "      <th>Lampo</th>\n",
              "      <td>4.491667</td>\n",
              "    </tr>\n",
              "    <tr>\n",
              "      <th>Tavola</th>\n",
              "      <td>4.366667</td>\n",
              "    </tr>\n",
              "    <tr>\n",
              "      <th>Orzo</th>\n",
              "      <td>4.366667</td>\n",
              "    </tr>\n",
              "    <tr>\n",
              "      <th>The Local</th>\n",
              "      <td>4.366667</td>\n",
              "    </tr>\n",
              "    <tr>\n",
              "      <th>C&amp;O</th>\n",
              "      <td>4.333333</td>\n",
              "    </tr>\n",
              "    <tr>\n",
              "      <th>Belle</th>\n",
              "      <td>4.300000</td>\n",
              "    </tr>\n",
              "    <tr>\n",
              "      <th>Duners</th>\n",
              "      <td>4.216667</td>\n",
              "    </tr>\n",
              "    <tr>\n",
              "      <th>petitpois</th>\n",
              "      <td>4.125000</td>\n",
              "    </tr>\n",
              "    <tr>\n",
              "      <th>Monsoon</th>\n",
              "      <td>4.083333</td>\n",
              "    </tr>\n",
              "    <tr>\n",
              "      <th>Bang</th>\n",
              "      <td>4.058333</td>\n",
              "    </tr>\n",
              "    <tr>\n",
              "      <th>Brazos</th>\n",
              "      <td>4.058333</td>\n",
              "    </tr>\n",
              "    <tr>\n",
              "      <th>Mas Tapas</th>\n",
              "      <td>3.983333</td>\n",
              "    </tr>\n",
              "    <tr>\n",
              "      <th>Ten Sushi</th>\n",
              "      <td>3.933333</td>\n",
              "    </tr>\n",
              "    <tr>\n",
              "      <th>Virginian</th>\n",
              "      <td>3.933333</td>\n",
              "    </tr>\n",
              "    <tr>\n",
              "      <th>Vivace</th>\n",
              "      <td>3.875000</td>\n",
              "    </tr>\n",
              "    <tr>\n",
              "      <th>Asado</th>\n",
              "      <td>3.575000</td>\n",
              "    </tr>\n",
              "    <tr>\n",
              "      <th>ridley</th>\n",
              "      <td>3.408333</td>\n",
              "    </tr>\n",
              "    <tr>\n",
              "      <th>Guad</th>\n",
              "      <td>3.295918</td>\n",
              "    </tr>\n",
              "  </tbody>\n",
              "</table></div>\n",
              "    <div><table border=\"1\" class=\"dataframe\">\n",
              "  <thead>\n",
              "    <tr style=\"text-align: right;\">\n",
              "      <th></th>\n",
              "      <th>sentiment</th>\n",
              "    </tr>\n",
              "    <tr>\n",
              "      <th>Restaurant</th>\n",
              "      <th></th>\n",
              "    </tr>\n",
              "  </thead>\n",
              "  <tbody>\n",
              "    <tr>\n",
              "      <th>Smyrna</th>\n",
              "      <td>0.888400</td>\n",
              "    </tr>\n",
              "    <tr>\n",
              "      <th>Orzo</th>\n",
              "      <td>0.868048</td>\n",
              "    </tr>\n",
              "    <tr>\n",
              "      <th>C&amp;O</th>\n",
              "      <td>0.867908</td>\n",
              "    </tr>\n",
              "    <tr>\n",
              "      <th>publicfish</th>\n",
              "      <td>0.864860</td>\n",
              "    </tr>\n",
              "    <tr>\n",
              "      <th>Tavola</th>\n",
              "      <td>0.863213</td>\n",
              "    </tr>\n",
              "    <tr>\n",
              "      <th>The Local</th>\n",
              "      <td>0.863213</td>\n",
              "    </tr>\n",
              "    <tr>\n",
              "      <th>Mas Tapas</th>\n",
              "      <td>0.851382</td>\n",
              "    </tr>\n",
              "    <tr>\n",
              "      <th>Oakhart</th>\n",
              "      <td>0.827202</td>\n",
              "    </tr>\n",
              "    <tr>\n",
              "      <th>Black Cow</th>\n",
              "      <td>0.820759</td>\n",
              "    </tr>\n",
              "    <tr>\n",
              "      <th>Lampo</th>\n",
              "      <td>0.799838</td>\n",
              "    </tr>\n",
              "    <tr>\n",
              "      <th>Ten Sushi</th>\n",
              "      <td>0.795003</td>\n",
              "    </tr>\n",
              "    <tr>\n",
              "      <th>Monsoon</th>\n",
              "      <td>0.794718</td>\n",
              "    </tr>\n",
              "    <tr>\n",
              "      <th>petitpois</th>\n",
              "      <td>0.788126</td>\n",
              "    </tr>\n",
              "    <tr>\n",
              "      <th>Duners</th>\n",
              "      <td>0.783151</td>\n",
              "    </tr>\n",
              "    <tr>\n",
              "      <th>Belle</th>\n",
              "      <td>0.776090</td>\n",
              "    </tr>\n",
              "    <tr>\n",
              "      <th>Brazos</th>\n",
              "      <td>0.769115</td>\n",
              "    </tr>\n",
              "    <tr>\n",
              "      <th>Bang</th>\n",
              "      <td>0.763611</td>\n",
              "    </tr>\n",
              "    <tr>\n",
              "      <th>Virginian</th>\n",
              "      <td>0.758405</td>\n",
              "    </tr>\n",
              "    <tr>\n",
              "      <th>Vivace</th>\n",
              "      <td>0.752083</td>\n",
              "    </tr>\n",
              "    <tr>\n",
              "      <th>Asado</th>\n",
              "      <td>0.638341</td>\n",
              "    </tr>\n",
              "    <tr>\n",
              "      <th>ridley</th>\n",
              "      <td>0.534102</td>\n",
              "    </tr>\n",
              "    <tr>\n",
              "      <th>Guad</th>\n",
              "      <td>0.525811</td>\n",
              "    </tr>\n",
              "  </tbody>\n",
              "</table></div>\n",
              "</div>\n"
            ]
          },
          "metadata": {}
        }
      ]
    },
    {
      "cell_type": "markdown",
      "source": [
        "# Regression\n",
        "\n",
        "This section contains the code for the OLS regression between sentiment and rating."
      ],
      "metadata": {
        "id": "FlDthQVwh31N"
      }
    },
    {
      "cell_type": "code",
      "source": [
        "import statsmodels.api as sm"
      ],
      "metadata": {
        "id": "R9PgeqcEh-uW"
      },
      "execution_count": 11,
      "outputs": []
    },
    {
      "cell_type": "code",
      "source": [
        "# regression analysis\n",
        "avg_rating_by_restaurant = df.groupby(df['Restaurant'])['Rating'].mean()\n",
        "avg_sentiment_by_restaurant = df.groupby(df['Restaurant'])['sentiment'].mean()\n",
        "avg_df = pd.concat([avg_rating_by_restaurant, avg_sentiment_by_restaurant], axis=1)\n",
        "avg_df.columns = ['avg_rating', 'avg_sentiment']\n",
        "\n",
        "x = avg_df['avg_sentiment'].values.reshape(-1, 1)\n",
        "y = avg_df['avg_rating'].values.reshape(-1, 1)\n",
        "\n",
        "X = sm.add_constant(x)\n",
        "model = sm.OLS(y, X).fit()\n",
        "print(model.summary())\n",
        "\n",
        "beta0 = model.params[0]\n",
        "beta1 = model.params[1]\n",
        "yhat = beta0 + beta1 * x"
      ],
      "metadata": {
        "colab": {
          "base_uri": "https://localhost:8080/"
        },
        "id": "fpPMz0slh_dP",
        "outputId": "2609f288-6e6d-4f1f-ac1f-8428264ff256"
      },
      "execution_count": 12,
      "outputs": [
        {
          "output_type": "stream",
          "name": "stdout",
          "text": [
            "                            OLS Regression Results                            \n",
            "==============================================================================\n",
            "Dep. Variable:                      y   R-squared:                       0.777\n",
            "Model:                            OLS   Adj. R-squared:                  0.766\n",
            "Method:                 Least Squares   F-statistic:                     69.77\n",
            "Date:                Sun, 20 Apr 2025   Prob (F-statistic):           5.95e-08\n",
            "Time:                        14:09:22   Log-Likelihood:                 6.8484\n",
            "No. Observations:                  22   AIC:                            -9.697\n",
            "Df Residuals:                      20   BIC:                            -7.515\n",
            "Df Model:                           1                                         \n",
            "Covariance Type:            nonrobust                                         \n",
            "==============================================================================\n",
            "                 coef    std err          t      P>|t|      [0.025      0.975]\n",
            "------------------------------------------------------------------------------\n",
            "const          1.4670      0.323      4.536      0.000       0.792       2.142\n",
            "x1             3.4300      0.411      8.353      0.000       2.573       4.287\n",
            "==============================================================================\n",
            "Omnibus:                        0.028   Durbin-Watson:                   2.112\n",
            "Prob(Omnibus):                  0.986   Jarque-Bera (JB):                0.090\n",
            "Skew:                          -0.020   Prob(JB):                        0.956\n",
            "Kurtosis:                       2.689   Cond. No.                         16.7\n",
            "==============================================================================\n",
            "\n",
            "Notes:\n",
            "[1] Standard Errors assume that the covariance matrix of the errors is correctly specified.\n"
          ]
        }
      ]
    },
    {
      "cell_type": "code",
      "source": [
        "# regression plot\n",
        "plt.scatter(avg_sentiment_by_restaurant, avg_rating_by_restaurant, label='Data')\n",
        "plt.xlabel('Average Sentiment')\n",
        "plt.ylabel('Average Rating')\n",
        "plt.title('Average Sentiment vs Average Rating')\n",
        "plt.plot(x,yhat,label='Regression Line')\n",
        "plt.legend(loc='lower right')\n",
        "plt.show()"
      ],
      "metadata": {
        "colab": {
          "base_uri": "https://localhost:8080/",
          "height": 472
        },
        "id": "1rmut3F_j3zh",
        "outputId": "c576c41f-26bf-4706-cc71-f6b30e6ae8b8"
      },
      "execution_count": 20,
      "outputs": [
        {
          "output_type": "display_data",
          "data": {
            "text/plain": [
              "<Figure size 640x480 with 1 Axes>"
            ],
            "image/png": "[encoded data removed]"
          },
          "metadata": {}
        }
      ]
    }
  ]
}
